{
 "cells": [
  {
   "cell_type": "code",
   "execution_count": 1,
   "metadata": {},
   "outputs": [],
   "source": [
    "import functools\n",
    "import pandas as pd\n",
    "import numpy as np\n",
    "import tensorflow as tf\n",
    "import os\n",
    "from tensorflow import keras\n",
    "import tensorflow_text as text\n",
    ""
   ]
  },
  {
   "cell_type": "code",
   "execution_count": 2,
   "metadata": {},
   "outputs": [],
   "source": [
    "TRAIN_DATA_URL = \"http://localhost:8890/lab/tree/Desktop/Code/final_project_twitter/server/tweet3.csv\"\n",
    "TEST_DATA_URL = \"http://localhost:8890/lab/tree/Desktop/Code/final_project_twitter/server/test_data.csv\"\n",
    "\n",
    "\n",
    "train_file_path = tf.keras.utils.get_file(\"tweets3.csv\", TRAIN_DATA_URL)\n",
    "test_file_path = tf.keras.utils.get_file(\"test_tweets.csv\", TRAIN_DATA_URL)"
   ]
  },
  {
   "cell_type": "code",
   "execution_count": 3,
   "metadata": {},
   "outputs": [],
   "source": [
    "np.set_printoptions(precision=3, suppress=True)"
   ]
  },
  {
   "cell_type": "code",
   "execution_count": 4,
   "metadata": {},
   "outputs": [
    {
     "output_type": "stream",
     "name": "stdout",
     "text": "mongo_id,ratio,date,username,to,replies,retweets,favorites,text,geo,mentions,hashtags,id,permalink,modified,percentage,sentiment\n{'$oid': '5e84b6da3b636ca8068a302b'},0.041947926711668276,{'$date': '2019-11-13T03:56:26.000+0000'},BernieSanders,,87,565,2074,\"\"\"Today we say thank you to our grassroots donors who make this movement possible. No billionaires\", super PACs or corporate lobbyists are supporting us,\" and we wouldn’t have it any other way.https://www.pscp.tv/w/cJswGjMyNzU3OTl8MXlwS2RCcmdsVlJKV84SNzDXOW11HYezwTRzB7dVUPXV6YNFz9Jc4eayeHOZ …\"\"\",,,,{'$date': '2020-04-01T20:32:33.307+0000'},4.1947926711668275,2.0\n{'$oid': '5e84b6da3b636ca8068a302c'},0.018886621976100262,2019-11-12 22:31:09,BernieSanders,RVAwonk,324.0,3112.0,17155.0,\"\"\"Stephen Miller's white nationalist views are a danger to the American people. We are going to defeat this hateful administration and everything it stands for.https://twitter.com/RVAwonk/status/1194316047383433227 …\"\"\",,,,1194382146850476040,https://twitter.com/BernieSanders/status/1194382146850476040,{'$date': '2020-04-01T20:32:33.307+0000'},1.8886621976100262,2.0\n{'$oid': '5e84b6da3b636ca8068a302d'},0.047861075815332485,2019-11-12 21:02:01,BernieSanders,,339.0,1244.0,7083.0,\"\"\"In just three days\", we had over 7,\"000 people join us on the road in Iowa. Our campaign is stronger than ever and we're so glad to have @AOC with us in the fight for a just economy and a Green New Deal.pic.twitter.com/zIJZbCEiTU\"\"\",,@AOC,,{'$date': '2020-04-01T20:32:33.307+0000'},4.786107581533249,2.0\n{'$oid': '5e84b6da3b636ca8068a302e'},0.04136758594635436,2019-11-12 19:16:16,BernieSanders,fightfor15,219.0,891.0,5294.0,\"\"\"I have spent years standing with McDonald's workers in the fight for justice. Today\",\" I proudly support those workers again who are fighting to end sexual assault and workplace violence and striking for $15 and a union.https://twitter.com/fightfor15/status/1194260929057214464 …\"\"\",,,,1194333103944347649,{'$date': '2020-04-01T20:32:33.307+0000'},4.136758594635436,2.0\n{'$oid': '5e84b6da3b636ca8068a302f'},0.02295825771324864,2019-11-12 18:17:47,BernieSanders,Sarah_Boxer,253.0,2340.0,11020.0,\"\"\"Not a single person in America\", the richest country on Earth,\" should be able to say someone they know died because they couldn't afford treatment—let alone 34 MILLION people. Medicare for All now.https://twitter.com/Sarah_Boxer/status/1194241353959591936 …\"\"\",,,,{'$date': '2020-04-01T20:32:33.307+0000'},2.295825771324864,2.0\n{'$oid': '5e84b6da3b636ca8068a3030'},0.03248995881194198,2019-11-12 17:22:51,BernieSanders,realDonaldTrump,1270.0,6739.0,39089.0,\"\"\"Trump is a liar. He's a racist. We're going to defeat him. And we're going to reverse every ugly thing he has done to demonize immigrants—starting with immediately restoring protections for Dreamers and their parents.https://twitter.com/realDonaldTrump/status/1194219655717642240 …\"\"\",,,,1194304564138299399,https://twitter.com/BernieSanders/status/1194304564138299399,{'$date': '2020-04-01T20:32:33.307+0000'},3.248995881194198,2.0\n{'$oid': '5e84b6da3b636ca8068a3031'},0.02160737812911726,2019-11-12 15:51:09,BernieSanders,UNITEDWEDREAM,246.0,2628.0,11385.0,\"\"\"I stand with DACA recipients and immigrants across the country today. When we win we'll reverse every ugly thing Trump has done to hurt immigrants. America is not about millions of people living in fear. On day one\",\" I'll restore DACA and put a moratorium on all deportations.https://twitter.com/UNITEDWEDREAM/status/1194263999057203201 …\"\"\",,,,1194281484368175104,{'$date': '2020-04-01T20:32:33.307+0000'},2.160737812911726,2.0\n{'$oid': '5e84b6da3b636ca8068a3032'},0.018411624203821655,2019-11-12 14:19:42,BernieSanders,NNUBonnie,185.0,1983.0,10048.0,\"\"\"Nurses are the backbone of American health care. I want to thank @NationalNurses for not only the strong support of our campaign—but for the courage they have shown in helping to lead the effort for a Medicare for All program. Together we will make health care a right.https://twitter.com/NNUBonnie/status/1194199019200765952 …\"\"\",,@NationalNurses,,1194258471815983104,https://twitter.com/BernieSanders/status/1194258471815983104,{'$date': '2020-04-01T20:32:33.307+0000'},1.8411624203821655,2.0\n{'$oid': '5e84b6da3b636ca8068a3033'},0.06403269754768393,2019-11-12 02:15:00,BernieSanders,,94.0,378.0,1468.0,\"\"\"Are you a veteran supporting our campaign? Join us for our first Veterans for Bernie strategy webinar this Thursday. Register at https://bernsanders.us/veteransweb pic.twitter.com/84im6h4HO6\"\"\",,,,1194076093617180672,https://twitter.com/BernieSanders/status/1194076093617180672,{'$date': '2020-04-01T20:32:33.307+0000'},6.4032697547683926,2.0\n"
    }
   ],
   "source": [
    "!head {train_file_path}"
   ]
  },
  {
   "cell_type": "code",
   "execution_count": 5,
   "metadata": {},
   "outputs": [
    {
     "output_type": "stream",
     "name": "stdout",
     "text": "mongo_id,ratio,date,username,to,replies,retweets,favorites,text,geo,mentions,hashtags,id,permalink,modified,percentage,sentiment\n{'$oid': '5e84b6da3b636ca8068a302b'},0.041947926711668276,{'$date': '2019-11-13T03:56:26.000+0000'},BernieSanders,,87,565,2074,\"\"\"Today we say thank you to our grassroots donors who make this movement possible. No billionaires\", super PACs or corporate lobbyists are supporting us,\" and we wouldn’t have it any other way.https://www.pscp.tv/w/cJswGjMyNzU3OTl8MXlwS2RCcmdsVlJKV84SNzDXOW11HYezwTRzB7dVUPXV6YNFz9Jc4eayeHOZ …\"\"\",,,,{'$date': '2020-04-01T20:32:33.307+0000'},4.1947926711668275,2.0\n{'$oid': '5e84b6da3b636ca8068a302c'},0.018886621976100262,2019-11-12 22:31:09,BernieSanders,RVAwonk,324.0,3112.0,17155.0,\"\"\"Stephen Miller's white nationalist views are a danger to the American people. We are going to defeat this hateful administration and everything it stands for.https://twitter.com/RVAwonk/status/1194316047383433227 …\"\"\",,,,1194382146850476040,https://twitter.com/BernieSanders/status/1194382146850476040,{'$date': '2020-04-01T20:32:33.307+0000'},1.8886621976100262,2.0\n{'$oid': '5e84b6da3b636ca8068a302d'},0.047861075815332485,2019-11-12 21:02:01,BernieSanders,,339.0,1244.0,7083.0,\"\"\"In just three days\", we had over 7,\"000 people join us on the road in Iowa. Our campaign is stronger than ever and we're so glad to have @AOC with us in the fight for a just economy and a Green New Deal.pic.twitter.com/zIJZbCEiTU\"\"\",,@AOC,,{'$date': '2020-04-01T20:32:33.307+0000'},4.786107581533249,2.0\n{'$oid': '5e84b6da3b636ca8068a302e'},0.04136758594635436,2019-11-12 19:16:16,BernieSanders,fightfor15,219.0,891.0,5294.0,\"\"\"I have spent years standing with McDonald's workers in the fight for justice. Today\",\" I proudly support those workers again who are fighting to end sexual assault and workplace violence and striking for $15 and a union.https://twitter.com/fightfor15/status/1194260929057214464 …\"\"\",,,,1194333103944347649,{'$date': '2020-04-01T20:32:33.307+0000'},4.136758594635436,2.0\n{'$oid': '5e84b6da3b636ca8068a302f'},0.02295825771324864,2019-11-12 18:17:47,BernieSanders,Sarah_Boxer,253.0,2340.0,11020.0,\"\"\"Not a single person in America\", the richest country on Earth,\" should be able to say someone they know died because they couldn't afford treatment—let alone 34 MILLION people. Medicare for All now.https://twitter.com/Sarah_Boxer/status/1194241353959591936 …\"\"\",,,,{'$date': '2020-04-01T20:32:33.307+0000'},2.295825771324864,2.0\n{'$oid': '5e84b6da3b636ca8068a3030'},0.03248995881194198,2019-11-12 17:22:51,BernieSanders,realDonaldTrump,1270.0,6739.0,39089.0,\"\"\"Trump is a liar. He's a racist. We're going to defeat him. And we're going to reverse every ugly thing he has done to demonize immigrants—starting with immediately restoring protections for Dreamers and their parents.https://twitter.com/realDonaldTrump/status/1194219655717642240 …\"\"\",,,,1194304564138299399,https://twitter.com/BernieSanders/status/1194304564138299399,{'$date': '2020-04-01T20:32:33.307+0000'},3.248995881194198,2.0\n{'$oid': '5e84b6da3b636ca8068a3031'},0.02160737812911726,2019-11-12 15:51:09,BernieSanders,UNITEDWEDREAM,246.0,2628.0,11385.0,\"\"\"I stand with DACA recipients and immigrants across the country today. When we win we'll reverse every ugly thing Trump has done to hurt immigrants. America is not about millions of people living in fear. On day one\",\" I'll restore DACA and put a moratorium on all deportations.https://twitter.com/UNITEDWEDREAM/status/1194263999057203201 …\"\"\",,,,1194281484368175104,{'$date': '2020-04-01T20:32:33.307+0000'},2.160737812911726,2.0\n{'$oid': '5e84b6da3b636ca8068a3032'},0.018411624203821655,2019-11-12 14:19:42,BernieSanders,NNUBonnie,185.0,1983.0,10048.0,\"\"\"Nurses are the backbone of American health care. I want to thank @NationalNurses for not only the strong support of our campaign—but for the courage they have shown in helping to lead the effort for a Medicare for All program. Together we will make health care a right.https://twitter.com/NNUBonnie/status/1194199019200765952 …\"\"\",,@NationalNurses,,1194258471815983104,https://twitter.com/BernieSanders/status/1194258471815983104,{'$date': '2020-04-01T20:32:33.307+0000'},1.8411624203821655,2.0\n{'$oid': '5e84b6da3b636ca8068a3033'},0.06403269754768393,2019-11-12 02:15:00,BernieSanders,,94.0,378.0,1468.0,\"\"\"Are you a veteran supporting our campaign? Join us for our first Veterans for Bernie strategy webinar this Thursday. Register at https://bernsanders.us/veteransweb pic.twitter.com/84im6h4HO6\"\"\",,,,1194076093617180672,https://twitter.com/BernieSanders/status/1194076093617180672,{'$date': '2020-04-01T20:32:33.307+0000'},6.4032697547683926,2.0\n"
    }
   ],
   "source": [
    "!head {test_file_path}"
   ]
  },
  {
   "cell_type": "code",
   "execution_count": 6,
   "metadata": {},
   "outputs": [],
   "source": [
    "LABEL_COLUMN = 'ratio'\n",
    "# LABELS = [0.0]\n",
    ""
   ]
  },
  {
   "cell_type": "code",
   "execution_count": 7,
   "metadata": {},
   "outputs": [
    {
     "output_type": "stream",
     "name": "stdout",
     "text": "WARNING:tensorflow:From /opt/anaconda3/lib/python3.7/site-packages/tensorflow_core/python/data/experimental/ops/readers.py:521: parallel_interleave (from tensorflow.python.data.experimental.ops.interleave_ops) is deprecated and will be removed in a future version.\nInstructions for updating:\nUse `tf.data.Dataset.interleave(map_func, cycle_length, block_length, num_parallel_calls=tf.data.experimental.AUTOTUNE)` instead. If sloppy execution is desired, use `tf.data.Options.experimental_determinstic`.\n"
    }
   ],
   "source": [
    "def get_dataset(file_path, **kwargs):\n",
    "  dataset = tf.data.experimental.make_csv_dataset(\n",
    "      file_path,\n",
    "      batch_size=5, # Artificially small to make examples easier to show.\n",
    "      label_name=LABEL_COLUMN,\n",
    "    # column_names=['_id','ratio','date','username','to','replies','retweets','favorites','text','geo','mentions','hashtags','id', 'permalink','modified','percentage','sentiment'],\n",
    "#     column_defaults= [tf.string, tf.float32, tf.string, tf.string, tf.string, tf.float32, tf.int32, tf.float32, tf.float32, tf.string, tf.string, tf.string, tf.string, tf.string, tf.string, tf.string, tf.float32 ],\n",
    "      na_value=\"?\",\n",
    "      num_epochs=1,\n",
    "      ignore_errors=True,\n",
    "      **kwargs\n",
    "      )\n",
    "  return dataset\n",
    "\n",
    "raw_train_data = get_dataset(train_file_path)\n",
    "raw_test_data = get_dataset(test_file_path)"
   ]
  },
  {
   "cell_type": "code",
   "execution_count": 8,
   "metadata": {},
   "outputs": [],
   "source": [
    "def show_batch(dataset):\n",
    "  for batch, label in dataset.take(1):\n",
    "    for key, value in batch.items():\n",
    "      print(\"{:20s}: {}\".format(key,value.numpy()))"
   ]
  },
  {
   "cell_type": "code",
   "execution_count": 9,
   "metadata": {},
   "outputs": [
    {
     "output_type": "stream",
     "name": "stdout",
     "text": "mongo_id            : [b\"{'$oid': '5e84b7523b636ca8068a4728'}\"\n b\"{'$oid': '5e84b7523b636ca8068a476c'}\"\n b\"{'$oid': '5e84b7523b636ca8068a40bb'}\"\n b\"{'$oid': '5e84b6da3b636ca8068a3522'}\"\n b\"{'$oid': '5e84b7523b636ca8068a45c8'}\"]\ndate                : [b'2019-03-28 11:04:04' b'2019-03-19 12:24:21' b'2019-08-12 21:26:32'\n b'2019-07-18 20:00:16' b'2019-05-02 16:29:21']\nusername            : [b'realDonaldTrump' b'realDonaldTrump' b'realDonaldTrump' b'BernieSanders'\n b'realDonaldTrump']\nto                  : [b'' b'' b'' b'' b'']\nreplies             : [26110. 33157. 12926.  3159.  9825.]\nretweets            : [28192. 31972. 18101.  8134. 12782.]\nfavorites           : [127208. 126349.  75822.  54828.  69578.]\ntext                : [b'\"Wow'\n b'\"The Fake News Media has NEVER been more Dishonest or Corrupt than it is right now. There has never been a time like this in American History. Very exciting but also'\n b'\"The United States is learning much from the failed missile explosion in Russia. We have similar'\n b'\"Last night' b'\"Steve Moore']\ngeo                 : [b' ratings for \\xe2\\x80\\x9cMorning Joe'\n b' very sad! Fake News is the absolute Enemy of the People and our Country itself!\"'\n b' though more advanced'\n b' I was with @IlhanMN when we heard people at Trump\\'s rally were chanting \\xe2\\x80\\x9csend her back.\"\" She was unfazed. Sadly'\n b' a great pro-growth economist and a truly fine person']\nmentions            : [b'\\xe2\\x80\\x9d which were really bad in the first place' b''\n b' technology. The Russian \\xe2\\x80\\x9cSkyfall\\xe2\\x80\\x9d explosion has people worried about the air around the facility'\n b' she said'\n b' has decided to withdraw from the Fed process. Steve won the battle of ideas including Tax Cuts....\"']\nhashtags            : [b' just \\xe2\\x80\\x9ctanked\\xe2\\x80\\x9d with the release of the Mueller Report. Likewise'\n b'' b' and far beyond. Not good!\"'\n b\" this racism isn't new. Ilhan has incredible courage. She won\\xe2\\x80\\x99t back down to Trump\\xe2\\x80\\x99s hate\"\n b'']\nid                  : [b' other shows on MSNBC and CNN have gone down by as much as 50%. Just shows'\n b'' b''\n b' and neither will we. https://secure.actblue.com/donate/social-bernie-omar?refcode=tw190718 \\xe2\\x80\\xa6pic.twitter.com/4BJefURuwP\"'\n b'']\npermalink           : [b' Fake News never wins!\"' b'1107981131012628481' b'' b'' b'']\nmodified            : [b\"{'$date': '2020-04-01T20:32:33.307+0000'}\"\n b\"{'$date': '2020-04-01T20:32:33.307+0000'}\"\n b\"{'$date': '2020-04-01T20:32:33.307+0000'}\"\n b\"{'$date': '2020-04-01T20:32:33.307+0000'}\"\n b\"{'$date': '2020-04-01T20:32:33.307+0000'}\"]\npercentage          : [20.525 26.242 17.048  5.762 14.121]\nsentiment           : [0. 0. 0. 2. 1.]\n"
    }
   ],
   "source": [
    "show_batch(raw_train_data)\n",
    ""
   ]
  },
  {
   "cell_type": "code",
   "execution_count": 10,
   "metadata": {},
   "outputs": [
    {
     "output_type": "stream",
     "name": "stdout",
     "text": "mongo_id            : [b\"{'$oid': '5e84b6da3b636ca8068a3195'}\"\n b\"{'$oid': '5e84b7523b636ca8068a3b97'}\"\n b\"{'$oid': '5e84b6da3b636ca8068a3285'}\"\n b\"{'$oid': '5e84b6da3b636ca8068a3352'}\"\n b\"{'$oid': '5e84b7523b636ca8068a45a0'}\"]\ndate                : [b'2019-10-12 22:46:14' b'2019-10-28 20:02:56' b'2019-09-17 15:30:00'\n b'2019-08-31 16:36:00' b'2019-05-06 03:05:35']\nusername            : [b'BernieSanders' b'realDonaldTrump' b'BernieSanders' b'BernieSanders'\n b'realDonaldTrump']\nto                  : [b'' b'' b'' b'' b'']\nreplies             : [  453. 54043.   334.   414. 22833.]\nretweets            : [  1726. 131069.   1324.   1787.  24943.]\nfavorites           : [  6678. 574129.   7786.   6758. 127311.]\ntext                : [b'\"I\\'m excited to announce that we will be holding a major rally in New York next Saturday'\n b'\"We have declassified a picture of the wonderful dog (name not declassified) that did such a GREAT JOB in capturing and killing the Leader of ISIS'\n b'\"When one person says \\xe2\\x80\\x9cI can\\xe2\\x80\\x99t afford to go to the doctor'\n b'\"Our lives'\n b'\"Despite the tremendous success that I have had as President']\ngeo                 : [b' October 19th. Let\\'s show Trump and the rest of the billionaire class we are ready to take them on. RSVP if you\\'re with us:https://act.berniesanders.com/event/event-bernie-sanders-attend/32740 \\xe2\\x80\\xa6\"'\n b' Abu Bakr al-Baghdadi!pic.twitter.com/PDMx9nZWvw\"'\n b'\\xe2\\x80\\x9d millions of people nod their heads because that is the reality facing people in this country. When we are in the White House'\n b' our existence'\n b' including perhaps the greatest ECONOMY and most successful first two years of any President in history']\nmentions            : [b'' b'' b' we are going to guarantee health care for all with no co-pays'\n b' should be about more than just the accumulation of more and more wealth.pic.twitter.com/sNvSSANxEy\"'\n b' they have stolen two years of my (our) Presidency (Collusion Delusion) that we will never be able to get back.....\"']\nhashtags            : [b'' b'' b' premiums or deductibles.\"' b'' b'']\nid                  : [b'' b'' b'' b'' b'']\npermalink           : [b'1183151922456473600' b'1188909031403900928' b'' b'' b'']\nmodified            : [b\"{'$date': '2020-04-01T20:32:33.307+0000'}\"\n b\"{'$date': '2020-04-01T20:32:33.307+0000'}\"\n b\"{'$date': '2020-04-01T20:32:33.307+0000'}\"\n b\"{'$date': '2020-04-01T20:32:33.307+0000'}\"\n b\"{'$date': '2020-04-01T20:32:33.307+0000'}\"]\npercentage          : [ 6.783  9.413  4.29   6.126 17.935]\nsentiment           : [2. 2. 2. 2. 0.]\n"
    }
   ],
   "source": [
    "temp_dataset = get_dataset(train_file_path)\n",
    "\n",
    "show_batch(temp_dataset)"
   ]
  },
  {
   "cell_type": "code",
   "execution_count": 11,
   "metadata": {},
   "outputs": [
    {
     "output_type": "stream",
     "name": "stdout",
     "text": "username            : [b'realDonaldTrump' b'realDonaldTrump' b'realDonaldTrump'\n b'realDonaldTrump' b'BernieSanders']\nreplies             : [14420.  9067. 10548.  3936.    80.]\nretweets            : [21465. 25686. 16275. 10031.   715.]\nfavorites           : [ 92834. 116703.  82471.  49162.   2337.]\ntext                : [b'\"....all deliveries of Fentanyl from China (or anywhere else!). Fentanyl kills 100'\n b'\"Just wrapped up a great meeting with my friend Prime Minister @NarendraModi of India at the #G7Summit in Biarritz'\n b'\"S&P closes at Record High!https://twitter.com/realDonaldTrump/status/1141706991464849408 \\xe2\\x80\\xa6\"'\n b'\"....pass the laugh test'\n b'\"Haim Saban is used to buying elections for his candidates. He and other billionaires oppose our campaign because they know they can\\'t buy us. We don\\'t want their money.pic.twitter.com/IMV2RwJOxj\"']\npercentage          : [15.533  7.769 12.79   8.006  3.423]\n"
    }
   ],
   "source": [
    "SELECT_COLUMNS = ['ratio','username', 'replies', 'retweets','favorites', 'text', 'percentage']\n",
    "\n",
    "temp_dataset = get_dataset(train_file_path, select_columns=SELECT_COLUMNS)\n",
    "\n",
    "show_batch(temp_dataset)"
   ]
  },
  {
   "cell_type": "code",
   "execution_count": 12,
   "metadata": {},
   "outputs": [
    {
     "output_type": "stream",
     "name": "stdout",
     "text": "replies             : [2895. 7194.  279. 2851.  130.]\nretweets            : [ 9527. 25373.  1021.  8238.   833.]\nfavorites           : [48718. 76743.  4989. 41771.  3097.]\npercentage          : [5.942 9.374 5.592 6.825 4.198]\n"
    }
   ],
   "source": [
    "SELECT_COLUMNS = [ 'ratio','replies', 'favorites', 'retweets', 'percentage' ]\n",
    "DEFAULTS = [0.0, 0.0, 0.0, 0.0, 0.0]\n",
    "temp_dataset = get_dataset(train_file_path, select_columns=SELECT_COLUMNS, column_defaults = DEFAULTS)\n",
    "\n",
    "show_batch(temp_dataset)\n",
    ""
   ]
  },
  {
   "cell_type": "code",
   "execution_count": 13,
   "metadata": {},
   "outputs": [],
   "source": [
    "example_batch, labels_batch = next(iter(temp_dataset)) "
   ]
  },
  {
   "cell_type": "code",
   "execution_count": 14,
   "metadata": {},
   "outputs": [],
   "source": [
    "def pack(features, label):\n",
    "  return tf.stack(list(features.values()), axis=-1), label"
   ]
  },
  {
   "cell_type": "code",
   "execution_count": 15,
   "metadata": {},
   "outputs": [
    {
     "output_type": "stream",
     "name": "stdout",
     "text": "[[13143.    19430.    80076.       16.413]\n [  515.     1441.     9671.        5.325]\n [ 7980.    17342.    64201.       12.43 ]\n [ 5238.    13041.    47685.       10.985]\n [  219.      891.     5294.        4.137]]\n\n[0.164 0.053 0.124 0.11  0.041]\n"
    }
   ],
   "source": [
    "packed_dataset = temp_dataset.map(pack)\n",
    "\n",
    "for features, labels in packed_dataset.take(1):\n",
    "  print(features.numpy())\n",
    "  print()\n",
    "  print(labels.numpy())"
   ]
  },
  {
   "cell_type": "code",
   "execution_count": 16,
   "metadata": {},
   "outputs": [],
   "source": [
    "class PackNumericFeatures(object):\n",
    "  def __init__(self, names):\n",
    "    self.names = names\n",
    "\n",
    "  def __call__(self, features, labels):\n",
    "    numeric_features = [features.pop(name) for name in self.names]\n",
    "    numeric_features = [tf.cast(feat, tf.float32) for feat in numeric_features]\n",
    "    numeric_features = tf.stack(numeric_features, axis=-1)\n",
    "    features['numeric'] = numeric_features\n",
    "\n",
    "    return features, labels"
   ]
  },
  {
   "cell_type": "code",
   "execution_count": 17,
   "metadata": {},
   "outputs": [],
   "source": [
    "NUMERIC_FEATURES = ['replies', 'favorites', 'retweets', 'percentage']\n",
    "\n",
    "packed_train_data = raw_train_data.map(\n",
    "    PackNumericFeatures(NUMERIC_FEATURES))\n",
    "\n",
    "packed_test_data = raw_test_data.map(\n",
    "    PackNumericFeatures(NUMERIC_FEATURES))"
   ]
  },
  {
   "cell_type": "code",
   "execution_count": 18,
   "metadata": {},
   "outputs": [
    {
     "output_type": "stream",
     "name": "stdout",
     "text": "mongo_id            : [b\"{'$oid': '5e84b6da3b636ca8068a36d2'}\"\n b\"{'$oid': '5e84b7523b636ca8068a3fd4'}\"\n b\"{'$oid': '5e84b6da3b636ca8068a3243'}\"\n b\"{'$oid': '5e84b7523b636ca8068a46f2'}\"\n b\"{'$oid': '5e84b7523b636ca8068a4611'}\"]\ndate                : [b'2019-06-09 20:21:45' b'2019-08-27 23:36:43' b'2019-09-22 15:05:00'\n b'2019-04-03 17:09:19' b'2019-04-24 13:47:54']\nusername            : [b'BernieSanders' b'realDonaldTrump' b'BernieSanders' b'realDonaldTrump'\n b'realDonaldTrump']\nto                  : [b'' b'' b'' b'' b'']\ntext                : [b'\"Some candidates believe the best way forward is a \"\"middle ground\"\" strategy that stands up to nobody and changes nothing. That approach isn\\'t just bad policy'\n b'\"Can you believe it? I\\xe2\\x80\\x99m at 94% approval in the Republican Party'\n b'\"McDonald\\'s made $6 billion in profits last year and paid its CEO $22 million. It damn well can afford to pay its workers a living wage. We will take on greedy corporations and raise wages for workers across this country.https://www.desmoinesregister.com/story/news/elections/presidential/caucus/2019/09/21/fight-15-activists-meet-bernie-sanders-iowa-minimum-wage-mcdonalds-fast-food-vermont-cedar-rapids/2384589001/ \\xe2\\x80\\xa6\"'\n b'\"The First Step Act proves that our Country can achieve amazing breakthroughs when we put politics aside'\n b'\"No Collusion']\ngeo                 : [b\" it's a failed strategy that could reelect Trump. Americans want real change\"\n b' and have Three Stooges running against me. One is \\xe2\\x80\\x9cMr. Appalachian Trail\\xe2\\x80\\x9d who was actually in Argentina for bad reasons....\"'\n b''\n b' and put the interests of ALL Americans FIRST. http://45.wh.gov/gF3mc7 pic.twitter.com/kILIFjXglO\"'\n b' No Obstruction - there has NEVER been a President who has been more transparent. Millions of pages of documents were given to the Mueller Angry Dems']\nmentions            : [b' and we have got to provide that change.\"' b'' b'' b''\n b' plus I allowed everyone to testify']\nhashtags            : [b'' b'' b'' b''\n b' including W.H. counsel. I didn\\xe2\\x80\\x99t have to do this']\nid                  : [b'' b'' b'1175788089773629440' b'' b' but now they want more.....\"']\npermalink           : [b'' b'1166494781935095810'\n b'https://twitter.com/BernieSanders/status/1175788089773629440'\n b'1113488660777906179' b'']\nmodified            : [b\"{'$date': '2020-04-01T20:32:33.307+0000'}\"\n b\"{'$date': '2020-04-01T20:32:33.307+0000'}\"\n b\"{'$date': '2020-04-01T20:32:33.307+0000'}\"\n b\"{'$date': '2020-04-01T20:32:33.307+0000'}\"\n b\"{'$date': '2020-04-01T20:32:33.307+0000'}\"]\nsentiment           : [2. 0. 1. 1. 0.]\nnumeric             : [[   643.      7811.      1927.         8.232]\n [ 24252.    106151.     20129.        22.847]\n [   935.      8925.      1996.        10.476]\n [ 12770.     88568.     21599.        14.418]\n [ 25891.     98650.     21691.        26.245]]\n"
    }
   ],
   "source": [
    "show_batch(packed_train_data)"
   ]
  },
  {
   "cell_type": "code",
   "execution_count": 19,
   "metadata": {},
   "outputs": [],
   "source": [
    "example_batch, labels_batch = next(iter(packed_train_data)) "
   ]
  },
  {
   "cell_type": "code",
   "execution_count": 20,
   "metadata": {},
   "outputs": [
    {
     "output_type": "execute_result",
     "data": {
      "text/plain": "             replies     favorites       retweets   percentage\ncount    6610.000000  6.610000e+03    6610.000000  6610.000000\nmean     9573.276097  5.765821e+04   12982.077912    12.709540\nstd     12778.795593  5.423316e+04   12568.021772     9.656935\nmin         2.000000  1.220000e+02      42.000000     0.667503\n25%       530.000000  9.192250e+03    1946.500000     5.923261\n50%      5187.500000  5.444050e+04   12524.500000    10.175822\n75%     13543.000000  8.659375e+04   19620.000000    16.928996\nmax    129067.000000  1.021327e+06  245074.000000   200.801833",
      "text/html": "<div>\n<style scoped>\n    .dataframe tbody tr th:only-of-type {\n        vertical-align: middle;\n    }\n\n    .dataframe tbody tr th {\n        vertical-align: top;\n    }\n\n    .dataframe thead th {\n        text-align: right;\n    }\n</style>\n<table border=\"1\" class=\"dataframe\">\n  <thead>\n    <tr style=\"text-align: right;\">\n      <th></th>\n      <th>replies</th>\n      <th>favorites</th>\n      <th>retweets</th>\n      <th>percentage</th>\n    </tr>\n  </thead>\n  <tbody>\n    <tr>\n      <th>count</th>\n      <td>6610.000000</td>\n      <td>6.610000e+03</td>\n      <td>6610.000000</td>\n      <td>6610.000000</td>\n    </tr>\n    <tr>\n      <th>mean</th>\n      <td>9573.276097</td>\n      <td>5.765821e+04</td>\n      <td>12982.077912</td>\n      <td>12.709540</td>\n    </tr>\n    <tr>\n      <th>std</th>\n      <td>12778.795593</td>\n      <td>5.423316e+04</td>\n      <td>12568.021772</td>\n      <td>9.656935</td>\n    </tr>\n    <tr>\n      <th>min</th>\n      <td>2.000000</td>\n      <td>1.220000e+02</td>\n      <td>42.000000</td>\n      <td>0.667503</td>\n    </tr>\n    <tr>\n      <th>25%</th>\n      <td>530.000000</td>\n      <td>9.192250e+03</td>\n      <td>1946.500000</td>\n      <td>5.923261</td>\n    </tr>\n    <tr>\n      <th>50%</th>\n      <td>5187.500000</td>\n      <td>5.444050e+04</td>\n      <td>12524.500000</td>\n      <td>10.175822</td>\n    </tr>\n    <tr>\n      <th>75%</th>\n      <td>13543.000000</td>\n      <td>8.659375e+04</td>\n      <td>19620.000000</td>\n      <td>16.928996</td>\n    </tr>\n    <tr>\n      <th>max</th>\n      <td>129067.000000</td>\n      <td>1.021327e+06</td>\n      <td>245074.000000</td>\n      <td>200.801833</td>\n    </tr>\n  </tbody>\n</table>\n</div>"
     },
     "metadata": {},
     "execution_count": 20
    }
   ],
   "source": [
    "import pandas as pd\n",
    "desc = pd.read_csv(train_file_path)[NUMERIC_FEATURES].describe(include = 'all')\n",
    "desc"
   ]
  },
  {
   "cell_type": "code",
   "execution_count": 21,
   "metadata": {},
   "outputs": [],
   "source": [
    "MEAN = np.array(desc.T['mean'])\n",
    "STD = np.array(desc.T['std'])"
   ]
  },
  {
   "cell_type": "code",
   "execution_count": 22,
   "metadata": {},
   "outputs": [],
   "source": [
    "def normalize_numeric_data(data, mean, std):\n",
    "  # Center the data\n",
    "  return (data-mean)/std"
   ]
  },
  {
   "cell_type": "code",
   "execution_count": 23,
   "metadata": {},
   "outputs": [
    {
     "output_type": "execute_result",
     "data": {
      "text/plain": "NumericColumn(key='numeric', shape=(4,), default_value=None, dtype=tf.float32, normalizer_fn=functools.partial(<function normalize_numeric_data at 0x633751e60>, mean=array([ 9573.276, 57658.211, 12982.078,    12.71 ]), std=array([12778.796, 54233.158, 12568.022,     9.657])))"
     },
     "metadata": {},
     "execution_count": 23
    }
   ],
   "source": [
    "normalizer = functools.partial(normalize_numeric_data, mean=MEAN, std=STD)\n",
    "\n",
    "numeric_column = tf.feature_column.numeric_column('numeric', normalizer_fn=normalizer, shape=[len(NUMERIC_FEATURES)])\n",
    "numeric_columns = [numeric_column]\n",
    "numeric_column"
   ]
  },
  {
   "cell_type": "code",
   "execution_count": 24,
   "metadata": {},
   "outputs": [
    {
     "output_type": "execute_result",
     "data": {
      "text/plain": "<tf.Tensor: id=660, shape=(5, 4), dtype=float32, numpy=\narray([[  6489.   ,  70129.   ,  12986.   ,      9.253],\n       [ 26057.   , 105041.   ,  17053.   ,     24.807],\n       [ 15522.   , 138200.   ,  23952.   ,     11.232],\n       [   227.   ,   4623.   ,   1083.   ,      4.91 ],\n       [  9721.   ,  71799.   ,  14529.   ,     13.539]], dtype=float32)>"
     },
     "metadata": {},
     "execution_count": 24
    }
   ],
   "source": [
    "example_batch['numeric']\n",
    ""
   ]
  },
  {
   "cell_type": "code",
   "execution_count": 25,
   "metadata": {},
   "outputs": [
    {
     "output_type": "execute_result",
     "data": {
      "text/plain": "array([[-0.241,  0.23 ,  0.   , -0.358],\n       [ 1.29 ,  0.874,  0.324,  1.253],\n       [ 0.466,  1.485,  0.873, -0.153],\n       [-0.731, -0.978, -0.947, -0.808],\n       [ 0.012,  0.261,  0.123,  0.086]], dtype=float32)"
     },
     "metadata": {},
     "execution_count": 25
    }
   ],
   "source": [
    "numeric_layer = tf.keras.layers.DenseFeatures(numeric_columns)\n",
    "numeric_layer(example_batch).numpy()"
   ]
  },
  {
   "cell_type": "code",
   "execution_count": 26,
   "metadata": {},
   "outputs": [],
   "source": [
    "preprocessing_layer = tf.keras.layers.DenseFeatures(numeric_columns)"
   ]
  },
  {
   "cell_type": "code",
   "execution_count": 27,
   "metadata": {},
   "outputs": [
    {
     "output_type": "stream",
     "name": "stdout",
     "text": "[-0.241  0.23   0.    -0.358]\n"
    }
   ],
   "source": [
    "print(preprocessing_layer(example_batch).numpy()[0])"
   ]
  },
  {
   "cell_type": "code",
   "execution_count": 28,
   "metadata": {},
   "outputs": [],
   "source": [
    "CATEGORIES = {\n",
    "    'username': ['BernieSanders', 'realDonaldTrump']\n",
    "}\n",
    ""
   ]
  },
  {
   "cell_type": "code",
   "execution_count": 29,
   "metadata": {},
   "outputs": [],
   "source": [
    "categorical_columns = []\n",
    "for feature, vocab in CATEGORIES.items():\n",
    "  cat_col = tf.feature_column.categorical_column_with_vocabulary_list(\n",
    "        key=feature, vocabulary_list=vocab)\n",
    "  categorical_columns.append(tf.feature_column.indicator_column(cat_col))"
   ]
  },
  {
   "cell_type": "code",
   "execution_count": 30,
   "metadata": {},
   "outputs": [
    {
     "output_type": "execute_result",
     "data": {
      "text/plain": "[IndicatorColumn(categorical_column=VocabularyListCategoricalColumn(key='username', vocabulary_list=('BernieSanders', 'realDonaldTrump'), dtype=tf.string, default_value=-1, num_oov_buckets=0))]"
     },
     "metadata": {},
     "execution_count": 30
    }
   ],
   "source": [
    "categorical_columns"
   ]
  },
  {
   "cell_type": "code",
   "execution_count": 31,
   "metadata": {},
   "outputs": [
    {
     "output_type": "stream",
     "name": "stdout",
     "text": "WARNING:tensorflow:From /opt/anaconda3/lib/python3.7/site-packages/tensorflow_core/python/feature_column/feature_column_v2.py:4276: IndicatorColumn._variable_shape (from tensorflow.python.feature_column.feature_column_v2) is deprecated and will be removed in a future version.\nInstructions for updating:\nThe old _FeatureColumn APIs are being deprecated. Please use the new FeatureColumn APIs instead.\nWARNING:tensorflow:From /opt/anaconda3/lib/python3.7/site-packages/tensorflow_core/python/feature_column/feature_column_v2.py:4331: VocabularyListCategoricalColumn._num_buckets (from tensorflow.python.feature_column.feature_column_v2) is deprecated and will be removed in a future version.\nInstructions for updating:\nThe old _FeatureColumn APIs are being deprecated. Please use the new FeatureColumn APIs instead.\n[0. 1.]\n"
    }
   ],
   "source": [
    "categorical_layer = tf.keras.layers.DenseFeatures(categorical_columns)\n",
    "print(categorical_layer(example_batch).numpy()[0])"
   ]
  },
  {
   "cell_type": "code",
   "execution_count": 32,
   "metadata": {},
   "outputs": [],
   "source": [
    "preprocessing_layer = tf.keras.layers.DenseFeatures(categorical_columns+numeric_columns)\n",
    "preprocessing_layer = tf.keras.layers.DenseFeatures(numeric_columns)"
   ]
  },
  {
   "cell_type": "code",
   "execution_count": 33,
   "metadata": {},
   "outputs": [
    {
     "output_type": "stream",
     "name": "stdout",
     "text": "[-0.241  0.23   0.    -0.358]\n"
    }
   ],
   "source": [
    "print(preprocessing_layer(example_batch).numpy()[0])"
   ]
  },
  {
   "cell_type": "code",
   "execution_count": 34,
   "metadata": {},
   "outputs": [],
   "source": [
    "model = tf.keras.Sequential([\n",
    "  preprocessing_layer,\n",
    "  tf.keras.layers.Dense(128, activation='relu'),\n",
    "  tf.keras.layers.Dense(128, activation='relu'),\n",
    "  tf.keras.layers.Dense(1),\n",
    "])\n",
    "\n",
    "model.compile(\n",
    "    loss=tf.keras.losses.BinaryCrossentropy(from_logits=True),\n",
    "    optimizer='adam',\n",
    "    metrics=['accuracy'])"
   ]
  },
  {
   "cell_type": "code",
   "execution_count": 35,
   "metadata": {},
   "outputs": [],
   "source": [
    "train_data = packed_train_data.shuffle(500)\n",
    "test_data = packed_test_data"
   ]
  },
  {
   "cell_type": "code",
   "execution_count": 36,
   "metadata": {},
   "outputs": [
    {
     "output_type": "stream",
     "name": "stdout",
     "text": "Epoch 1/20\n1322/1322 [==============================] - 23s 17ms/step - loss: 0.3509 - accuracy: 0.0000e+00\nEpoch 2/20\n1322/1322 [==============================] - 10s 8ms/step - loss: 0.3448 - accuracy: 0.0000e+00\nEpoch 3/20\n1322/1322 [==============================] - 11s 8ms/step - loss: 0.3446 - accuracy: 0.0000e+00\nEpoch 4/20\n1322/1322 [==============================] - 9s 7ms/step - loss: 0.3443 - accuracy: 0.0000e+00\nEpoch 5/20\n1322/1322 [==============================] - 8s 6ms/step - loss: 0.3438 - accuracy: 0.0000e+00\nEpoch 6/20\n1322/1322 [==============================] - 11s 8ms/step - loss: 0.3440 - accuracy: 0.0000e+00\nEpoch 7/20\n1322/1322 [==============================] - 8s 6ms/step - loss: 0.3415 - accuracy: 0.0000e+00\nEpoch 8/20\n1322/1322 [==============================] - 12s 9ms/step - loss: 0.3412 - accuracy: 0.0000e+00\nEpoch 9/20\n1322/1322 [==============================] - 12s 9ms/step - loss: 0.3404 - accuracy: 0.0000e+00\nEpoch 10/20\n1322/1322 [==============================] - 8s 6ms/step - loss: 0.3379 - accuracy: 0.0000e+00\nEpoch 11/20\n1322/1322 [==============================] - 8s 6ms/step - loss: 0.3354 - accuracy: 0.0000e+00\nEpoch 12/20\n1322/1322 [==============================] - 10s 8ms/step - loss: 0.3332 - accuracy: 0.0000e+00\nEpoch 13/20\n1322/1322 [==============================] - 11s 8ms/step - loss: 0.3225 - accuracy: 0.0000e+00\nEpoch 14/20\n1322/1322 [==============================] - 6s 5ms/step - loss: 0.3253 - accuracy: 0.0000e+00\nEpoch 15/20\n1322/1322 [==============================] - 5s 4ms/step - loss: 0.3119 - accuracy: 0.0000e+00\nEpoch 16/20\n1322/1322 [==============================] - 5s 4ms/step - loss: 0.3064 - accuracy: 0.0000e+00\nEpoch 17/20\n1322/1322 [==============================] - 6s 4ms/step - loss: 0.3132 - accuracy: 0.0000e+00\nEpoch 18/20\n1322/1322 [==============================] - 7s 6ms/step - loss: 0.2896 - accuracy: 0.0000e+00\nEpoch 19/20\n1322/1322 [==============================] - 11s 8ms/step - loss: 0.2813 - accuracy: 0.0000e+00\nEpoch 20/20\n1322/1322 [==============================] - 9s 7ms/step - loss: 0.2653 - accuracy: 0.0000e+00\n"
    },
    {
     "output_type": "execute_result",
     "data": {
      "text/plain": "<tensorflow.python.keras.callbacks.History at 0x633702dd0>"
     },
     "metadata": {},
     "execution_count": 36
    }
   ],
   "source": [
    "model.fit(train_data, epochs=20)"
   ]
  },
  {
   "cell_type": "code",
   "execution_count": 37,
   "metadata": {},
   "outputs": [
    {
     "output_type": "stream",
     "name": "stdout",
     "text": "110/110 [==============================] - 5s 44ms/step - loss: 0.2959 - accuracy: 0.0000e+00\n\n\nTest Loss 0.2959033621983095, Test Accuracy 0.0\n"
    }
   ],
   "source": [
    "test_loss, test_accuracy = model.evaluate(test_data)\n",
    "\n",
    "print('\\n\\nTest Loss {}, Test Accuracy {}'.format(test_loss, test_accuracy))"
   ]
  },
  {
   "cell_type": "code",
   "execution_count": 38,
   "metadata": {},
   "outputs": [],
   "source": [
    "predictions = model.predict(test_data)"
   ]
  },
  {
   "cell_type": "code",
   "execution_count": 39,
   "metadata": {},
   "outputs": [
    {
     "output_type": "error",
     "ename": "TypeError",
     "evalue": "'str' object is not callable",
     "traceback": [
      "\u001b[0;31m---------------------------------------------------------------------------\u001b[0m",
      "\u001b[0;31mTypeError\u001b[0m                                 Traceback (most recent call last)",
      "\u001b[0;32m<ipython-input-39-ba29e860e919>\u001b[0m in \u001b[0;36m<module>\u001b[0;34m\u001b[0m\n\u001b[1;32m      3\u001b[0m   print(\"Predicted sentiment: {:.02%}\".format(prediction[0]),\n\u001b[1;32m      4\u001b[0m         \u001b[0;34m\" | Actual outcome: \"\u001b[0m\u001b[0;34m\u001b[0m\u001b[0;34m\u001b[0m\u001b[0m\n\u001b[0;32m----> 5\u001b[0;31m             ('positive' if ratio > .01 else 'negative'))\n\u001b[0m",
      "\u001b[0;31mTypeError\u001b[0m: 'str' object is not callable"
     ]
    }
   ],
   "source": [
    "\n",
    "# Show some results\n",
    "for prediction, ratio in zip(predictions[:10], list(test_data)[0][1][:10]):\n",
    "  print(\"Predicted sentiment: {:.02%}\".format(prediction[0]),\n",
    "        \" | Actual outcome: \"\n",
    "            ('positive' if ratio > .01 else 'negative'))"
   ]
  },
  {
   "cell_type": "code",
   "execution_count": 40,
   "metadata": {},
   "outputs": [],
   "source": [
    "def convert_to_trigrams(tweets): \n",
    "    tokenizer = text.WhitespaceTokenizer()\n",
    "    tokens = tokenizer.tokenize(tweets)\n",
    "    # Ngrams, in this case tri-gram (n = 3)\n",
    "    trigrams = text.ngrams(tokens, 3, reduction_type=text.Reduction.STRING_JOIN)\n",
    "    print(trigrams.to_list())"
   ]
  },
  {
   "cell_type": "code",
   "execution_count": 41,
   "metadata": {
    "tags": [
     "outputPrepend",
     "outputPrepend",
     "outputPrepend",
     "outputPrepend",
     "outputPrepend",
     "outputPrepend",
     "outputPrepend",
     "outputPrepend",
     "outputPrepend",
     "outputPrepend",
     "outputPrepend",
     "outputPrepend",
     "outputPrepend",
     "outputPrepend",
     "outputPrepend"
    ]
   },
   "outputs": [],
   "source": [
    "# import csv\n",
    "\n",
    "# with open('/Users/rachel/.keras/datasets/tweets3.csv', 'r') as f1:\n",
    "#     csvlines = csv.reader(f1, delimiter=',')\n",
    "#     for lineNum, line in enumerate(csvlines):\n",
    "#         if not len(line)==6:\n",
    "#             print(f\"line:{lineNum} \\t length:{len(line)}\") "
   ]
  }
 ],
 "metadata": {
  "kernelspec": {
   "display_name": "Python 3",
   "language": "python",
   "name": "python3"
  },
  "language_info": {
   "codemirror_mode": {
    "name": "ipython",
    "version": 3
   },
   "file_extension": ".py",
   "mimetype": "text/x-python",
   "name": "python",
   "nbconvert_exporter": "python",
   "pygments_lexer": "ipython3",
   "version": "3.7.6-final"
  }
 },
 "nbformat": 4,
 "nbformat_minor": 4
}